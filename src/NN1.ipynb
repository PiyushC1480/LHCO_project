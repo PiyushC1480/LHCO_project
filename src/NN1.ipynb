{
  "cells": [
    {
      "cell_type": "code",
      "execution_count": 26,
      "metadata": {
        "colab": {
          "base_uri": "https://localhost:8080/"
        },
        "id": "RXiRSO36KFfR",
        "outputId": "dbacf1b1-5df6-4995-c118-68cca359cd2e"
      },
      "outputs": [
        {
          "name": "stdout",
          "output_type": "stream",
          "text": [
            "27956 97708\n",
            "saved tauhadronic1L_minpt50_out.parquet\n",
            "saved hardqcd_200k_minpt50_out2.parquet\n",
            "Training samples: 100531, Testing samples: 25133\n"
          ]
        }
      ],
      "source": [
        "import uproot\n",
        "import pandas as pd\n",
        "import numpy as np\n",
        "import matplotlib.pyplot as plt\n",
        "from sklearn.model_selection import train_test_split\n",
        "from sklearn.metrics import roc_auc_score, roc_curve, auc\n",
        "np.random.seed(42)\n",
        "\n",
        "\n",
        "\"\"\"\n",
        "Designing Neural Network for the classification of tau hadronic decay and hard QCD jets\n",
        "\n",
        "variable to use :  theta_J and N_T initially to segment phase space and then use lambda_J, r_2 and tau_31 to analyze the subspaces using multi-variate analysis\n",
        "files given  : signal (tauhadronic_out.root) and background (hardqcd_200k_minpt50_out.root)\n",
        "\"\"\"\n",
        "variables = [\"thetaJ\", \"trackno\", \"LambdaJ\", \"ecfr2\", \"tau31\"] # choices informed by the paper\n",
        "\n",
        "def create_df(file_name, label):\n",
        "    file = uproot.open(f\"../dataset/{file_name}.root\")  # Corrected path\n",
        "    tree_name = list(file.keys())[0]\n",
        "    tree = file[tree_name]\n",
        "    df = tree.arrays(library=\"pd\")[variables]\n",
        "    df[\"label\"] = label\n",
        "    return df\n",
        "\n",
        "#create a parquet file from the root file\n",
        "def write_parquet(file_name):\n",
        "    file  = uproot.open(f\"../dataset/{file_name}.root\")  # Corrected path\n",
        "    tree_name = list(file.keys())[0]\n",
        "    tree = file[tree_name]\n",
        "    df = tree.arrays(library=\"pd\")\n",
        "    df.to_parquet(f\"../dataset/converted/converted_{file_name}.parquet\", index=False)  # Save in /content/\n",
        "    print(f\"saved {file_name}.parquet\")\n",
        "    return\n",
        "\n",
        "if __name__ == \"__main__\":\n",
        "\n",
        "    signal_file = \"tauhadronic1L_minpt50_out\"\n",
        "    background_file = \"hardqcd_200k_minpt50_out2\"\n",
        "\n",
        "    # write_parquet(signal_file)\n",
        "    # write_parquet(background_file)\n",
        "\n",
        "    signal_df = create_df(signal_file, 1)\n",
        "    background_df = create_df(background_file, 0)\n",
        "\n",
        "    print(len(signal_df), len(background_df))\n",
        "\n",
        "    write_parquet(signal_file)\n",
        "    write_parquet(background_file)\n",
        "\n",
        "    df = pd.concat([signal_df, background_df], axis=0)\n",
        "    df = df.sample(frac=1).reset_index(drop=True)\n",
        "\n",
        "    X = df[variables]\n",
        "    y = df[\"label\"]\n",
        "\n",
        "    X_train, X_test, y_train, y_test = train_test_split(X, y, test_size=0.2, random_state=42)\n",
        "    print(f\"Training samples: {len(X_train)}, Testing samples: {len(X_test)}\")"
      ]
    },
    {
      "cell_type": "code",
      "execution_count": 27,
      "metadata": {
        "colab": {
          "base_uri": "https://localhost:8080/",
          "height": 206
        },
        "id": "qJMTDDlzNKmp",
        "outputId": "d47c0a89-e36a-4386-b68a-ee77b7bcc07e"
      },
      "outputs": [
        {
          "data": {
            "text/html": [
              "<div>\n",
              "<style scoped>\n",
              "    .dataframe tbody tr th:only-of-type {\n",
              "        vertical-align: middle;\n",
              "    }\n",
              "\n",
              "    .dataframe tbody tr th {\n",
              "        vertical-align: top;\n",
              "    }\n",
              "\n",
              "    .dataframe thead th {\n",
              "        text-align: right;\n",
              "    }\n",
              "</style>\n",
              "<table border=\"1\" class=\"dataframe\">\n",
              "  <thead>\n",
              "    <tr style=\"text-align: right;\">\n",
              "      <th></th>\n",
              "      <th>thetaJ</th>\n",
              "      <th>trackno</th>\n",
              "      <th>LambdaJ</th>\n",
              "      <th>ecfr2</th>\n",
              "      <th>tau31</th>\n",
              "      <th>label</th>\n",
              "    </tr>\n",
              "  </thead>\n",
              "  <tbody>\n",
              "    <tr>\n",
              "      <th>0</th>\n",
              "      <td>-0.044449</td>\n",
              "      <td>3.0</td>\n",
              "      <td>-0.226423</td>\n",
              "      <td>6.207169e-01</td>\n",
              "      <td>0.352259</td>\n",
              "      <td>0</td>\n",
              "    </tr>\n",
              "    <tr>\n",
              "      <th>1</th>\n",
              "      <td>-0.485420</td>\n",
              "      <td>1.0</td>\n",
              "      <td>-0.649732</td>\n",
              "      <td>1.462608e-07</td>\n",
              "      <td>0.000000</td>\n",
              "      <td>1</td>\n",
              "    </tr>\n",
              "    <tr>\n",
              "      <th>2</th>\n",
              "      <td>-0.099023</td>\n",
              "      <td>2.0</td>\n",
              "      <td>-0.284290</td>\n",
              "      <td>3.358686e-01</td>\n",
              "      <td>0.227576</td>\n",
              "      <td>0</td>\n",
              "    </tr>\n",
              "    <tr>\n",
              "      <th>3</th>\n",
              "      <td>-0.075547</td>\n",
              "      <td>8.0</td>\n",
              "      <td>-0.163599</td>\n",
              "      <td>1.187330e+00</td>\n",
              "      <td>0.545529</td>\n",
              "      <td>0</td>\n",
              "    </tr>\n",
              "    <tr>\n",
              "      <th>4</th>\n",
              "      <td>-0.616807</td>\n",
              "      <td>6.0</td>\n",
              "      <td>-0.206584</td>\n",
              "      <td>4.232076e-01</td>\n",
              "      <td>0.537610</td>\n",
              "      <td>0</td>\n",
              "    </tr>\n",
              "  </tbody>\n",
              "</table>\n",
              "</div>"
            ],
            "text/plain": [
              "     thetaJ  trackno   LambdaJ         ecfr2     tau31  label\n",
              "0 -0.044449      3.0 -0.226423  6.207169e-01  0.352259      0\n",
              "1 -0.485420      1.0 -0.649732  1.462608e-07  0.000000      1\n",
              "2 -0.099023      2.0 -0.284290  3.358686e-01  0.227576      0\n",
              "3 -0.075547      8.0 -0.163599  1.187330e+00  0.545529      0\n",
              "4 -0.616807      6.0 -0.206584  4.232076e-01  0.537610      0"
            ]
          },
          "execution_count": 27,
          "metadata": {},
          "output_type": "execute_result"
        }
      ],
      "source": [
        "df.head()"
      ]
    },
    {
      "cell_type": "code",
      "execution_count": 28,
      "metadata": {
        "colab": {
          "base_uri": "https://localhost:8080/"
        },
        "id": "F09CB1DmNL1C",
        "outputId": "4132e603-aeb2-4620-cd3e-5e7e792c6407"
      },
      "outputs": [
        {
          "data": {
            "text/plain": [
              "Index(['thetaJ', 'trackno', 'LambdaJ', 'ecfr2', 'tau31', 'label'], dtype='object')"
            ]
          },
          "execution_count": 28,
          "metadata": {},
          "output_type": "execute_result"
        }
      ],
      "source": [
        "df.columns"
      ]
    },
    {
      "cell_type": "code",
      "execution_count": 29,
      "metadata": {
        "colab": {
          "base_uri": "https://localhost:8080/"
        },
        "id": "-sXQ4vfyNsOg",
        "outputId": "3056f6d7-ca6e-4d42-9db0-f67c957a7d3f"
      },
      "outputs": [
        {
          "data": {
            "text/plain": [
              "Index(['thetaJ', 'trackno', 'LambdaJ', 'ecfr2', 'tau31', 'label'], dtype='object')"
            ]
          },
          "execution_count": 29,
          "metadata": {},
          "output_type": "execute_result"
        }
      ],
      "source": [
        "signal_df.columns"
      ]
    },
    {
      "cell_type": "code",
      "execution_count": 30,
      "metadata": {
        "colab": {
          "base_uri": "https://localhost:8080/"
        },
        "id": "NLCOj6EdNwfP",
        "outputId": "ea4d1304-2571-4dee-e2c3-2e1c65a407e8"
      },
      "outputs": [
        {
          "data": {
            "text/plain": [
              "Index(['thetaJ', 'trackno', 'LambdaJ', 'ecfr2', 'tau31', 'label'], dtype='object')"
            ]
          },
          "execution_count": 30,
          "metadata": {},
          "output_type": "execute_result"
        }
      ],
      "source": [
        "background_df.columns"
      ]
    },
    {
      "cell_type": "code",
      "execution_count": null,
      "metadata": {},
      "outputs": [
        {
          "name": "stdout",
          "output_type": "stream",
          "text": [
            "5 20\n",
            "Accuracy: 0.9559\n",
            "Classification Report:\n",
            "               precision    recall  f1-score   support\n",
            "\n",
            "           0       0.97      0.97      0.97     19657\n",
            "           1       0.89      0.91      0.90      5476\n",
            "\n",
            "    accuracy                           0.96     25133\n",
            "   macro avg       0.93      0.94      0.94     25133\n",
            "weighted avg       0.96      0.96      0.96     25133\n",
            "\n"
          ]
        }
      ],
      "source": [
        "import torch\n",
        "import torch.nn as nn\n",
        "import torch.optim as optim\n",
        "import numpy as np\n",
        "import pandas as pd\n",
        "from sklearn.model_selection import train_test_split\n",
        "from sklearn.metrics import accuracy_score, classification_report, roc_curve, roc_auc_score\n",
        "import matplotlib.pyplot as plt\n",
        "\n",
        "X = df.drop(columns=[\"label\"])\n",
        "y = df[\"label\"]\n",
        "\n",
        "X_train, X_test, y_train, y_test = train_test_split(X, y, test_size=0.2, random_state=42)\n",
        "\n",
        "X_train_tensor = torch.tensor(X_train.values, dtype=torch.float32)\n",
        "y_train_tensor = torch.tensor(y_train.values, dtype=torch.long)\n",
        "X_test_tensor = torch.tensor(X_test.values, dtype=torch.float32)\n",
        "y_test_tensor = torch.tensor(y_test.values, dtype=torch.long)\n",
        "\n",
        "# replace with a better model\n",
        "class SimpleNN(nn.Module):\n",
        "    def __init__(self, input_dim, hidden_dim, output_dim):\n",
        "        super(SimpleNN, self).__init__()\n",
        "        self.fc1 = nn.Linear(input_dim, hidden_dim)\n",
        "        self.fc2 = nn.Linear(hidden_dim, output_dim)\n",
        "        self.relu = nn.ReLU()\n",
        "        self.softmax = nn.Softmax(dim=1)\n",
        "\n",
        "    def forward(self, x):\n",
        "        x = self.fc1(x)\n",
        "        x = self.relu(x)\n",
        "        x = self.fc2(x)\n",
        "        return self.softmax(x)\n",
        "\n",
        "hidden_dim = 20 # Number of hidden neurons\n",
        "learning_rate = 1e-4  # Learning rate\n",
        "batch_size = 64  # Batch size\n",
        "epochs = 10  # Number of epochs\n",
        "\n",
        "model = SimpleNN(X_train.shape[1], hidden_dim, len(np.unique(y_train)))\n",
        "\n",
        "criterion = nn.CrossEntropyLoss()\n",
        "optimizer = optim.Adam(model.parameters(), lr=learning_rate)\n",
        "\n",
        "for epoch in range(epochs):\n",
        "    model.train()\n",
        "    permutation = torch.randperm(X_train_tensor.size(0))  # Shuffle the training data\n",
        "    for i in range(0, X_train_tensor.size(0), batch_size):\n",
        "        indices = permutation[i:i+batch_size]\n",
        "        batch_x, batch_y = X_train_tensor[indices], y_train_tensor[indices]\n",
        "        \n",
        "        optimizer.zero_grad()\n",
        "        outputs = model(batch_x)\n",
        "        loss = criterion(outputs, batch_y)\n",
        "        loss.backward()\n",
        "        optimizer.step()\n",
        "\n",
        "model.eval()\n",
        "with torch.no_grad():\n",
        "    y_prob = model(X_test_tensor)\n",
        "    y_pred = torch.argmax(y_prob, axis=1)    \n",
        "    y_prob = y_prob.numpy()[:,1]\n",
        "accuracy = accuracy_score(y_test, y_pred)\n",
        "print(f\"Accuracy: {accuracy:.4f}\")\n",
        "print(\"Classification Report:\\n\", classification_report(y_test, y_pred))"
      ]
    },
    {
      "cell_type": "code",
      "execution_count": 41,
      "metadata": {
        "colab": {
          "base_uri": "https://localhost:8080/",
          "height": 564
        },
        "id": "OkfgzjcBSrsb",
        "outputId": "904211be-5400-4083-d0e5-01cd5e99c434"
      },
      "outputs": [
        {
          "data": {
            "image/png": "[encoded data removed]",
            "text/plain": [
              "<Figure size 800x600 with 1 Axes>"
            ]
          },
          "metadata": {},
          "output_type": "display_data"
        }
      ],
      "source": [
        "# Compute ROC curve and AUC\n",
        "\n",
        "fpr, tpr, _ = roc_curve(y_test, y_prob)\n",
        "roc_auc = roc_auc_score(y_test, y_prob)\n",
        "\n",
        "# Plot ROC Curve\n",
        "plt.figure(figsize=(8, 6))\n",
        "plt.plot(fpr, tpr, color=\"blue\", lw=2, label=f\"ROC Curve (AUC = {roc_auc:.4f})\")\n",
        "plt.plot([0, 1], [0, 1], color=\"gray\", linestyle=\"--\")  # Diagonal line\n",
        "plt.xlim([0.0, 1.0])\n",
        "plt.ylim([0.0, 1.05])\n",
        "plt.xlabel(\"False Positive Rate\")\n",
        "plt.ylabel(\"True Positive Rate\")\n",
        "plt.title(\"ROC Curve for XGBoost Classifier\")\n",
        "plt.legend(loc=\"lower right\")\n",
        "plt.show()"
      ]
    }
  ],
  "metadata": {
    "accelerator": "GPU",
    "colab": {
      "gpuType": "T4",
      "provenance": []
    },
    "kernelspec": {
      "display_name": "pyoperon",
      "language": "python",
      "name": "python3"
    },
    "language_info": {
      "codemirror_mode": {
        "name": "ipython",
        "version": 3
      },
      "file_extension": ".py",
      "mimetype": "text/x-python",
      "name": "python",
      "nbconvert_exporter": "python",
      "pygments_lexer": "ipython3",
      "version": "3.12.4"
    }
  },
  "nbformat": 4,
  "nbformat_minor": 0
}
